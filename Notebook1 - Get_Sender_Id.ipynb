{
 "cells": [
  {
   "cell_type": "code",
   "execution_count": 1,
   "metadata": {},
   "outputs": [],
   "source": [
    "import boto3\n",
    "import botocore\n",
    "import pickle\n",
    "\n",
    "BUCKET_NAME = 'ts-dev-cs-training-data'\n",
    "PREFIX = 'rbp-research/data/e2e/2017-09-11/'\n",
    "\n",
    "s3 = boto3.resource('s3').Bucket(BUCKET_NAME)"
   ]
  },
  {
   "cell_type": "code",
   "execution_count": 4,
   "metadata": {},
   "outputs": [
    {
     "name": "stdout",
     "output_type": "stream",
     "text": [
      "The sql extension is already loaded. To reload it, use:\n",
      "  %reload_ext sql\n"
     ]
    }
   ],
   "source": [
    "# ssh -NL 5444:tradeshift.slave.db.eu-west-1.prod.ts.sv:5432 fli@sqltunnel.eu-west-1.prod.ts.sv\n",
    "%load_ext sql\n",
    "%sql postgresql+psycopg2://fli@localhost:5444/tradeshift?sslmode=require\n",
    "%config SqlMagic.feedback=False"
   ]
  },
  {
   "cell_type": "code",
   "execution_count": 5,
   "metadata": {},
   "outputs": [],
   "source": [
    "def get_a_train_file_key(s3, prefix):\n",
    "    for o in s3.objects.filter(Prefix=prefix, Delimiter='/'):\n",
    "        yield o.key"
   ]
  },
  {
   "cell_type": "code",
   "execution_count": null,
   "metadata": {},
   "outputs": [
    {
     "name": "stdout",
     "output_type": "stream",
     "text": [
      "Doc number 1. doc_sender_dict 1\n"
     ]
    }
   ],
   "source": [
    "gen = get_a_train_file_key(s3, PREFIX)\n",
    "\n",
    "\n",
    "doc_sender_dict = {}\n",
    "\n",
    "i = 0\n",
    "for s in gen:\n",
    "    i = i + 1\n",
    "    key = s.replace('.','/').split('/')[-3]\n",
    "    try:\n",
    "        sender_id = %sql select groupid from documents where uuid = :key\n",
    "        sender_id = str(sender_id.dict()['groupid'][0])\n",
    "    except:\n",
    "        sender_id = 'Unknown'\n",
    "    \n",
    "    doc_sender_dict[key] = sender_id\n",
    "    \n",
    "    if i % 10000 == 1:\n",
    "        print('Doc number {}. doc_sender_dict {}'.format(i, len(doc_sender_dict)))\n",
    "    \n",
    "    #if i == 68248:\n",
    "        #break\n",
    "\n",
    "# pickle.dump(doc_sender_dict, open('doc_sender_dict.pickle', 'wb'))\n",
    "import json\n",
    "with open('doc_sender_dict.json', 'w') as f:\n",
    "        json.dump(doc_sender_dict, f)"
   ]
  },
  {
   "cell_type": "code",
   "execution_count": 6,
   "metadata": {},
   "outputs": [],
   "source": [
    "import pickle\n",
    "pickle.dump(doc_sender_dict, open('doc_sender_dict.pickle', 'wb'))"
   ]
  },
  {
   "cell_type": "code",
   "execution_count": 7,
   "metadata": {},
   "outputs": [
    {
     "data": {
      "text/plain": [
       "68248"
      ]
     },
     "execution_count": 7,
     "metadata": {},
     "output_type": "execute_result"
    }
   ],
   "source": [
    "len(doc_sender_dict)"
   ]
  },
  {
   "cell_type": "code",
   "execution_count": 26,
   "metadata": {},
   "outputs": [],
   "source": [
    "def get_sender_name_via_id(doc_id):\n",
    "    import boto3\n",
    "    import botocore\n",
    "    import json\n",
    "    \n",
    "    b_name = 'ts-dev-cs-training-data'\n",
    "    prefix = 'cache_v2_individual/ubl1/hocr13/ubllight1/hocrlight1/sendertrainingmatrices20170819/data/'\n",
    "    key = prefix + doc_id + '.training'\n",
    "    \n",
    "    obj = boto3.resource('s3').Object(b_name, key)\n",
    "    doc_str = obj.get()['Body'].read().decode('utf-8')\n",
    "    doc_json = json.loads(doc_str)\n",
    "    \n",
    "    return doc_json['sender']"
   ]
  },
  {
   "cell_type": "code",
   "execution_count": 27,
   "metadata": {},
   "outputs": [
    {
     "data": {
      "text/plain": [
       "'UTOPIA TABLEWARE LTD'"
      ]
     },
     "execution_count": 27,
     "metadata": {},
     "output_type": "execute_result"
    }
   ],
   "source": [
    "get_sender_name_via_id('00001593-256e-46f5-b0a1-bd0c09981c3a')"
   ]
  },
  {
   "cell_type": "code",
   "execution_count": null,
   "metadata": {},
   "outputs": [],
   "source": []
  }
 ],
 "metadata": {
  "kernelspec": {
   "display_name": "Python 3",
   "language": "python",
   "name": "python3"
  },
  "language_info": {
   "codemirror_mode": {
    "name": "ipython",
    "version": 3
   },
   "file_extension": ".py",
   "mimetype": "text/x-python",
   "name": "python",
   "nbconvert_exporter": "python",
   "pygments_lexer": "ipython3",
   "version": "3.6.1"
  }
 },
 "nbformat": 4,
 "nbformat_minor": 2
}
