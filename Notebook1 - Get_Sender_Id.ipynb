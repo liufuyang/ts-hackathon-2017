{
 "cells": [
  {
   "cell_type": "code",
   "execution_count": 8,
   "metadata": {},
   "outputs": [],
   "source": [
    "import boto3\n",
    "import botocore\n",
    "import pickle\n",
    "\n",
    "BUCKET_NAME = 'ts-dev-cs-training-data'\n",
    "PREFIX = 'rbp-research/data/e2e/2017-09-11/'\n",
    "\n",
    "s3 = boto3.resource('s3').Bucket(BUCKET_NAME)"
   ]
  },
  {
   "cell_type": "code",
   "execution_count": 3,
   "metadata": {},
   "outputs": [],
   "source": [
    "%load_ext sql\n",
    "%sql postgresql+psycopg2://fli@localhost:5444/tradeshift?sslmode=require\n",
    "%config SqlMagic.feedback=False"
   ]
  },
  {
   "cell_type": "code",
   "execution_count": 4,
   "metadata": {},
   "outputs": [],
   "source": [
    "def get_a_train_file_key(s3, prefix):\n",
    "    for o in s3.objects.filter(Prefix=prefix, Delimiter='/'):\n",
    "        yield o.key"
   ]
  },
  {
   "cell_type": "code",
   "execution_count": 5,
   "metadata": {},
   "outputs": [
    {
     "name": "stdout",
     "output_type": "stream",
     "text": [
      "Doc number 1. doc_sender_dict 1\n",
      "Doc number 1001. doc_sender_dict 1001\n",
      "Doc number 2001. doc_sender_dict 2001\n",
      "Doc number 3001. doc_sender_dict 3001\n",
      "Doc number 4001. doc_sender_dict 4001\n",
      "Doc number 5001. doc_sender_dict 5001\n",
      "Doc number 6001. doc_sender_dict 6001\n",
      "Doc number 7001. doc_sender_dict 7001\n",
      "Doc number 8001. doc_sender_dict 8001\n",
      "Doc number 9001. doc_sender_dict 9001\n",
      "Doc number 10001. doc_sender_dict 10001\n",
      "Doc number 11001. doc_sender_dict 11001\n",
      "Doc number 12001. doc_sender_dict 12001\n",
      "Doc number 13001. doc_sender_dict 13001\n",
      "Doc number 14001. doc_sender_dict 14001\n",
      "Doc number 15001. doc_sender_dict 15001\n",
      "Doc number 16001. doc_sender_dict 16001\n",
      "Doc number 17001. doc_sender_dict 17001\n",
      "Doc number 18001. doc_sender_dict 18001\n",
      "Doc number 19001. doc_sender_dict 19001\n",
      "Doc number 20001. doc_sender_dict 20001\n",
      "Doc number 21001. doc_sender_dict 21001\n",
      "Doc number 22001. doc_sender_dict 22001\n",
      "Doc number 23001. doc_sender_dict 23001\n",
      "Doc number 24001. doc_sender_dict 24001\n",
      "Doc number 25001. doc_sender_dict 25001\n",
      "Doc number 26001. doc_sender_dict 26001\n",
      "Doc number 27001. doc_sender_dict 27001\n",
      "Doc number 28001. doc_sender_dict 28001\n",
      "Doc number 29001. doc_sender_dict 29001\n",
      "Doc number 30001. doc_sender_dict 30001\n",
      "Doc number 31001. doc_sender_dict 31001\n",
      "Doc number 32001. doc_sender_dict 32001\n",
      "Doc number 33001. doc_sender_dict 33001\n",
      "Doc number 34001. doc_sender_dict 34001\n",
      "Doc number 35001. doc_sender_dict 35001\n",
      "Doc number 36001. doc_sender_dict 36001\n",
      "Doc number 37001. doc_sender_dict 37001\n",
      "Doc number 38001. doc_sender_dict 38001\n",
      "Doc number 39001. doc_sender_dict 39001\n",
      "Doc number 40001. doc_sender_dict 40001\n",
      "Doc number 41001. doc_sender_dict 41001\n",
      "Doc number 42001. doc_sender_dict 42001\n",
      "Doc number 43001. doc_sender_dict 43001\n",
      "Doc number 44001. doc_sender_dict 44001\n",
      "Doc number 45001. doc_sender_dict 45001\n",
      "Doc number 46001. doc_sender_dict 46001\n",
      "Doc number 47001. doc_sender_dict 47001\n",
      "Doc number 48001. doc_sender_dict 48001\n",
      "Doc number 49001. doc_sender_dict 49001\n",
      "Doc number 50001. doc_sender_dict 50001\n",
      "Doc number 51001. doc_sender_dict 51001\n",
      "Doc number 52001. doc_sender_dict 52001\n",
      "Doc number 53001. doc_sender_dict 53001\n",
      "Doc number 54001. doc_sender_dict 54001\n",
      "Doc number 55001. doc_sender_dict 55001\n",
      "Doc number 56001. doc_sender_dict 56001\n",
      "Doc number 57001. doc_sender_dict 57001\n",
      "Doc number 58001. doc_sender_dict 58001\n",
      "Doc number 59001. doc_sender_dict 59001\n",
      "Doc number 60001. doc_sender_dict 60001\n",
      "Doc number 61001. doc_sender_dict 61001\n",
      "Doc number 62001. doc_sender_dict 62001\n",
      "Doc number 63001. doc_sender_dict 63001\n",
      "Doc number 64001. doc_sender_dict 64001\n",
      "Doc number 65001. doc_sender_dict 65001\n",
      "Doc number 66001. doc_sender_dict 66001\n",
      "Doc number 67001. doc_sender_dict 67001\n",
      "Doc number 68001. doc_sender_dict 68001\n"
     ]
    },
    {
     "ename": "NameError",
     "evalue": "name 'pickle' is not defined",
     "output_type": "error",
     "traceback": [
      "\u001b[0;31m---------------------------------------------------------------------------\u001b[0m",
      "\u001b[0;31mNameError\u001b[0m                                 Traceback (most recent call last)",
      "\u001b[0;32m<ipython-input-5-4ce9f97bac9d>\u001b[0m in \u001b[0;36m<module>\u001b[0;34m()\u001b[0m\n\u001b[1;32m     22\u001b[0m         \u001b[0;32mbreak\u001b[0m\u001b[0;34m\u001b[0m\u001b[0m\n\u001b[1;32m     23\u001b[0m \u001b[0;34m\u001b[0m\u001b[0m\n\u001b[0;32m---> 24\u001b[0;31m \u001b[0mpickle\u001b[0m\u001b[0;34m.\u001b[0m\u001b[0mdump\u001b[0m\u001b[0;34m(\u001b[0m\u001b[0mdoc_sender_dict\u001b[0m\u001b[0;34m,\u001b[0m \u001b[0mopen\u001b[0m\u001b[0;34m(\u001b[0m\u001b[0;34m'doc_sender_dict.pickle'\u001b[0m\u001b[0;34m,\u001b[0m \u001b[0;34m'wb'\u001b[0m\u001b[0;34m)\u001b[0m\u001b[0;34m)\u001b[0m\u001b[0;34m\u001b[0m\u001b[0m\n\u001b[0m",
      "\u001b[0;31mNameError\u001b[0m: name 'pickle' is not defined"
     ]
    }
   ],
   "source": [
    "gen = get_a_train_file_key(s3, PREFIX)\n",
    "\n",
    "\n",
    "doc_sender_dict = {}\n",
    "\n",
    "i = 0\n",
    "for s in gen:\n",
    "    i = i + 1\n",
    "    key = s.replace('.','/').split('/')[-3]\n",
    "    try:\n",
    "        sender_id = %sql select groupid from documents where uuid = :key\n",
    "        sender_id = str(sender_id.dict()['groupid'][0])\n",
    "    except:\n",
    "        sender_id = 'Unknown'\n",
    "    \n",
    "    doc_sender_dict[key] = sender_id\n",
    "    \n",
    "    if i % 1000 == 1:\n",
    "        print('Doc number {}. doc_sender_dict {}'.format(i, len(doc_sender_dict)))\n",
    "    \n",
    "    if i == 68248:\n",
    "        break\n",
    "\n",
    "pickle.dump(doc_sender_dict, open('doc_sender_dict.pickle', 'wb'))"
   ]
  },
  {
   "cell_type": "code",
   "execution_count": 6,
   "metadata": {},
   "outputs": [],
   "source": [
    "import pickle\n",
    "pickle.dump(doc_sender_dict, open('doc_sender_dict.pickle', 'wb'))"
   ]
  },
  {
   "cell_type": "code",
   "execution_count": 7,
   "metadata": {},
   "outputs": [
    {
     "data": {
      "text/plain": [
       "68248"
      ]
     },
     "execution_count": 7,
     "metadata": {},
     "output_type": "execute_result"
    }
   ],
   "source": [
    "len(doc_sender_dict)"
   ]
  },
  {
   "cell_type": "code",
   "execution_count": 26,
   "metadata": {},
   "outputs": [],
   "source": [
    "def get_sender_name_via_id(doc_id):\n",
    "    import boto3\n",
    "    import botocore\n",
    "    import json\n",
    "    \n",
    "    b_name = 'ts-dev-cs-training-data'\n",
    "    prefix = 'cache_v2_individual/ubl1/hocr13/ubllight1/hocrlight1/sendertrainingmatrices20170819/data/'\n",
    "    key = prefix + doc_id + '.training'\n",
    "    \n",
    "    obj = boto3.resource('s3').Object(b_name, key)\n",
    "    doc_str = obj.get()['Body'].read().decode('utf-8')\n",
    "    doc_json = json.loads(doc_str)\n",
    "    \n",
    "    return doc_json['sender']"
   ]
  },
  {
   "cell_type": "code",
   "execution_count": 27,
   "metadata": {},
   "outputs": [
    {
     "data": {
      "text/plain": [
       "'UTOPIA TABLEWARE LTD'"
      ]
     },
     "execution_count": 27,
     "metadata": {},
     "output_type": "execute_result"
    }
   ],
   "source": [
    "get_sender_name_via_id('00001593-256e-46f5-b0a1-bd0c09981c3a')"
   ]
  },
  {
   "cell_type": "code",
   "execution_count": null,
   "metadata": {},
   "outputs": [],
   "source": []
  }
 ],
 "metadata": {
  "kernelspec": {
   "display_name": "Python 3",
   "language": "python",
   "name": "python3"
  },
  "language_info": {
   "codemirror_mode": {
    "name": "ipython",
    "version": 3
   },
   "file_extension": ".py",
   "mimetype": "text/x-python",
   "name": "python",
   "nbconvert_exporter": "python",
   "pygments_lexer": "ipython3",
   "version": "3.6.1"
  }
 },
 "nbformat": 4,
 "nbformat_minor": 2
}
