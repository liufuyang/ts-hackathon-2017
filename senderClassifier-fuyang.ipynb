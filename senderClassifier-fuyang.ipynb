{
 "cells": [
  {
   "cell_type": "code",
   "execution_count": 5,
   "metadata": {},
   "outputs": [],
   "source": [
    "import boto3\n",
    "import botocore"
   ]
  },
  {
   "cell_type": "code",
   "execution_count": 6,
   "metadata": {},
   "outputs": [],
   "source": [
    "def iterate_bucket_items(bucket):\n",
    "    \"\"\"\n",
    "    Generator that iterates over all objects in a given s3 bucket\n",
    "\n",
    "    See http://boto3.readthedocs.io/en/latest/reference/services/s3.html#S3.Client.list_objects_v2 \n",
    "    for return data format\n",
    "    :param bucket: name of s3 bucket\n",
    "    :return: dict of metadata for an object\n",
    "    \"\"\"\n",
    "\n",
    "\n",
    "    client = boto3.client('s3')\n",
    "    paginator = client.get_paginator('list_objects_v2')\n",
    "    page_iterator = paginator.paginate(Bucket=bucket)\n",
    "\n",
    "    for page in page_iterator:\n",
    "        for item in page['Contents']:\n",
    "            yield item"
   ]
  },
  {
   "cell_type": "code",
   "execution_count": 22,
   "metadata": {},
   "outputs": [],
   "source": [
    "\n",
    "\n",
    "\n",
    "BUCKET_NAME = 'ts-dev-cs-training-data'\n",
    "PREFIX = 'rbp-research/data/e2e/2017-09-11/'\n",
    "KEY = 'rbp-research/data/e2e/2017-09-11/11fff4b9-1b6c-4e09-bb0e-809e882002bc.training.json'\n",
    "\n",
    "s3 = boto3.resource('s3').Bucket(BUCKET_NAME)\n",
    "\n",
    "\n",
    "def download_file(KEY, diskFilename):\n",
    "    try:\n",
    "        s3.download_file(KEY, diskFilename)\n",
    "    except botocore.exceptions.ClientError as e:\n",
    "        if e.response['Error']['Code'] == \"404\":\n",
    "            print(\"The object does not exist.\")\n",
    "        else:\n",
    "            raise\n",
    "            \n"
   ]
  },
  {
   "cell_type": "code",
   "execution_count": 8,
   "metadata": {},
   "outputs": [
    {
     "name": "stdout",
     "output_type": "stream",
     "text": [
      "{'Key': 'abbyy-hocr-backup/0000322e-16b6-4d36-b72c-5c9d827ba9dc.training', 'LastModified': datetime.datetime(2016, 7, 27, 20, 33, 11, tzinfo=tzutc()), 'ETag': '\"e58c0f0c1d5bf873b4328490b5e5792c\"', 'Size': 535661, 'StorageClass': 'STANDARD'}\n"
     ]
    }
   ],
   "source": [
    "itr = iterate_bucket_items(bucket=BUCKET_NAME)\n",
    "\n",
    "print(next(itr))"
   ]
  },
  {
   "cell_type": "code",
   "execution_count": 3,
   "metadata": {},
   "outputs": [],
   "source": [
    "download_file(KEY, 'test.json')"
   ]
  },
  {
   "cell_type": "code",
   "execution_count": 7,
   "metadata": {
    "collapsed": true
   },
   "outputs": [],
   "source": [
    "b.download_file()"
   ]
  },
  {
   "cell_type": "code",
   "execution_count": 20,
   "metadata": {},
   "outputs": [],
   "source": [
    "def get_a_train_file_key(s3, prefix):\n",
    "    for o in s3.objects.filter(Prefix=prefix, Delimiter='/'):\n",
    "        yield o.key"
   ]
  },
  {
   "cell_type": "code",
   "execution_count": 23,
   "metadata": {},
   "outputs": [],
   "source": [
    "gen = get_a_train_file_key(s3, PREFIX)"
   ]
  },
  {
   "cell_type": "code",
   "execution_count": 24,
   "metadata": {},
   "outputs": [
    {
     "name": "stdout",
     "output_type": "stream",
     "text": [
      "rbp-research/data/e2e/2017-09-11/00001593-256e-46f5-b0a1-bd0c09981c3a.training.json\n"
     ]
    }
   ],
   "source": [
    "print(next(gen))"
   ]
  },
  {
   "cell_type": "code",
   "execution_count": null,
   "metadata": {},
   "outputs": [],
   "source": []
  }
 ],
 "metadata": {
  "kernelspec": {
   "display_name": "Python 3",
   "language": "python",
   "name": "python3"
  },
  "language_info": {
   "codemirror_mode": {
    "name": "ipython",
    "version": 3
   },
   "file_extension": ".py",
   "mimetype": "text/x-python",
   "name": "python",
   "nbconvert_exporter": "python",
   "pygments_lexer": "ipython3",
   "version": "3.6.1"
  }
 },
 "nbformat": 4,
 "nbformat_minor": 2
}
