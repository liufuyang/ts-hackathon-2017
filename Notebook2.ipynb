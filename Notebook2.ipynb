{
 "cells": [
  {
   "cell_type": "markdown",
   "metadata": {},
   "source": [
    "## Get Lexicon"
   ]
  },
  {
   "cell_type": "code",
   "execution_count": 103,
   "metadata": {},
   "outputs": [],
   "source": [
    "import matplotlib.pyplot as plt\n",
    "%matplotlib inline\n",
    "\n",
    "DATA_FOLDER = './'"
   ]
  },
  {
   "cell_type": "code",
   "execution_count": 104,
   "metadata": {},
   "outputs": [],
   "source": [
    "import pickle\n",
    "\n",
    "sender_words_dict = pickle.load(open(DATA_FOLDER + 'sender_words_dict.pickle', 'rb'))\n",
    "lexicon_all = pickle.load(open(DATA_FOLDER + 'lexicon_all.pickle', 'rb'))"
   ]
  },
  {
   "cell_type": "code",
   "execution_count": 105,
   "metadata": {},
   "outputs": [
    {
     "data": {
      "text/plain": [
       "68248"
      ]
     },
     "execution_count": 105,
     "metadata": {},
     "output_type": "execute_result"
    }
   ],
   "source": [
    "len(sender_words_dict)"
   ]
  },
  {
   "cell_type": "code",
   "execution_count": 106,
   "metadata": {},
   "outputs": [],
   "source": [
    "from collections import Counter"
   ]
  },
  {
   "cell_type": "code",
   "execution_count": 107,
   "metadata": {},
   "outputs": [],
   "source": [
    "w_counts = Counter(lexicon_all)\n",
    "\n",
    "def create_lexicon(w_counts, l_boundary=100, h_boundary=2000 ):\n",
    "    l2 = []\n",
    "    for w in w_counts:\n",
    "        if h_boundary > w_counts[w] > l_boundary:\n",
    "            l2.append(w)\n",
    "    return l2"
   ]
  },
  {
   "cell_type": "code",
   "execution_count": 108,
   "metadata": {},
   "outputs": [
    {
     "data": {
      "image/png": "[encoded data removed]",
      "text/plain": [
       "<matplotlib.figure.Figure at 0x166afa7b8>"
      ]
     },
     "metadata": {},
     "output_type": "display_data"
    }
   ],
   "source": [
    "w_counts_new = {}\n",
    "\n",
    "for k,v in w_counts.items():\n",
    "    if v > 100:\n",
    "        w_counts_new[k] = v\n",
    "\n",
    "plt.hist(list(w_counts_new.values()), bins=50)\n",
    "plt.show()"
   ]
  },
  {
   "cell_type": "code",
   "execution_count": 117,
   "metadata": {},
   "outputs": [
    {
     "data": {
      "image/png": "[encoded data removed]",
      "text/plain": [
       "<matplotlib.figure.Figure at 0x166715550>"
      ]
     },
     "metadata": {},
     "output_type": "display_data"
    }
   ],
   "source": [
    "w_counts_new = {}\n",
    "\n",
    "for k,v in w_counts.items():\n",
    "    if v > 500 and v < 80000:\n",
    "        w_counts_new[k] = v\n",
    "\n",
    "plt.hist(list(w_counts_new.values()), bins=50)\n",
    "plt.show()"
   ]
  },
  {
   "cell_type": "code",
   "execution_count": 132,
   "metadata": {},
   "outputs": [
    {
     "name": "stdout",
     "output_type": "stream",
     "text": [
      "Train matrix length (lexicon length) 2920\n",
      "2920\n"
     ]
    }
   ],
   "source": [
    "lexicon= create_lexicon(w_counts, l_boundary=500, h_boundary=80000)\n",
    "# print(lexicon)\n",
    "print('Train matrix length (lexicon length) {}'.format(len(lexicon)))\n",
    "print(len(w_counts_new))\n",
    "pickle.dump(lexicon, open(DATA_FOLDER + 'lexicon.pickle', 'wb'))"
   ]
  },
  {
   "cell_type": "code",
   "execution_count": 119,
   "metadata": {},
   "outputs": [
    {
     "data": {
      "text/plain": [
       "46979"
      ]
     },
     "execution_count": 119,
     "metadata": {},
     "output_type": "execute_result"
    }
   ],
   "source": [
    "w_counts['nagel']"
   ]
  },
  {
   "cell_type": "code",
   "execution_count": 126,
   "metadata": {},
   "outputs": [
    {
     "data": {
      "text/plain": [
       "212"
      ]
     },
     "execution_count": 126,
     "metadata": {},
     "output_type": "execute_result"
    }
   ],
   "source": [
    "w_counts['utopia']"
   ]
  },
  {
   "cell_type": "code",
   "execution_count": 135,
   "metadata": {},
   "outputs": [
    {
     "data": {
      "text/plain": [
       "141"
      ]
     },
     "execution_count": 135,
     "metadata": {},
     "output_type": "execute_result"
    }
   ],
   "source": [
    "w_counts['tara']"
   ]
  },
  {
   "cell_type": "markdown",
   "metadata": {},
   "source": [
    "## Use Lexicon to generate featureset.pickle"
   ]
  },
  {
   "cell_type": "code",
   "execution_count": 120,
   "metadata": {},
   "outputs": [
    {
     "name": "stdout",
     "output_type": "stream",
     "text": [
      "Doc number 1.\n",
      "Doc number 1001.\n",
      "Doc number 2001.\n",
      "Doc number 3001.\n",
      "Doc number 4001.\n",
      "Doc number 5001.\n",
      "Doc number 6001.\n",
      "Doc number 7001.\n",
      "Doc number 8001.\n",
      "Doc number 9001.\n",
      "Doc number 10001.\n",
      "Doc number 11001.\n",
      "Doc number 12001.\n",
      "Doc number 13001.\n",
      "Doc number 14001.\n",
      "Doc number 15001.\n",
      "Doc number 16001.\n",
      "Doc number 17001.\n",
      "Doc number 18001.\n",
      "Doc number 19001.\n",
      "Doc number 20001.\n",
      "Doc number 21001.\n",
      "Doc number 22001.\n",
      "Doc number 23001.\n",
      "Doc number 24001.\n",
      "Doc number 25001.\n",
      "Doc number 26001.\n",
      "Doc number 27001.\n",
      "Doc number 28001.\n",
      "Doc number 29001.\n",
      "Doc number 30001.\n",
      "Doc number 31001.\n",
      "Doc number 32001.\n",
      "Doc number 33001.\n",
      "Doc number 34001.\n",
      "Doc number 35001.\n",
      "Doc number 36001.\n",
      "Doc number 37001.\n",
      "Doc number 38001.\n",
      "Doc number 39001.\n",
      "Doc number 40001.\n",
      "Doc number 41001.\n",
      "Doc number 42001.\n",
      "Doc number 43001.\n",
      "Doc number 44001.\n",
      "Doc number 45001.\n",
      "Doc number 46001.\n",
      "Doc number 47001.\n",
      "Doc number 48001.\n",
      "Doc number 49001.\n",
      "Doc number 50001.\n",
      "Doc number 51001.\n",
      "Doc number 52001.\n",
      "Doc number 53001.\n",
      "Doc number 54001.\n",
      "Doc number 55001.\n",
      "Doc number 56001.\n",
      "Doc number 57001.\n",
      "Doc number 58001.\n",
      "Doc number 59001.\n",
      "Doc number 60001.\n",
      "Doc number 61001.\n",
      "Doc number 62001.\n",
      "Doc number 63001.\n",
      "Doc number 64001.\n",
      "Doc number 65001.\n",
      "Doc number 66001.\n",
      "Doc number 67001.\n",
      "Doc number 68001.\n",
      "(68248, 2920)\n"
     ]
    }
   ],
   "source": [
    "import numpy as np\n",
    "\n",
    "m = len(sender_words_dict) # training example number\n",
    "n = len(lexicon)           # training matrix number\n",
    "\n",
    "\n",
    "load_count = 0\n",
    "for key, words in sender_words_dict.items():\n",
    "    load_count += 1\n",
    "    \n",
    "    features = np.zeros(len(lexicon))\n",
    "    \n",
    "    for word in words:\n",
    "        if word in lexicon:\n",
    "            index_value = lexicon.index(word)\n",
    "            features[index_value] += 1\n",
    "    if load_count == 1:\n",
    "        featureset = [features]\n",
    "    else:\n",
    "        featureset = np.append(featureset, [features], axis=0)\n",
    "    \n",
    "    if load_count % 1000 == 1:\n",
    "        print('Doc number {}.'.format(load_count))\n",
    "\n",
    "pickle.dump(featureset, open(DATA_FOLDER + 'featureset.pickle', 'wb'))\n",
    "print(featureset.shape)"
   ]
  },
  {
   "cell_type": "code",
   "execution_count": 47,
   "metadata": {},
   "outputs": [
    {
     "data": {
      "text/plain": [
       "array([[  2.,  11.,   4.,   3.,   1.,   3.,   6.,   2.,   1.,   1.,   2.,\n",
       "          6.,   1.,   2.,   2.,   1.,   2.,   1.,   1.,   1.,   1.,   0.,\n",
       "          0.,   0.,   0.,   0.,   0.,   0.,   0.,   0.,   0.,   0.,   0.,\n",
       "          0.,   0.,   0.,   0.,   0.,   0.,   0.,   0.,   0.,   0.,   0.,\n",
       "          0.,   0.,   0.,   0.,   0.,   0.,   0.,   0.,   0.,   0.,   0.,\n",
       "          0.],\n",
       "       [  0.,   0.,   0.,   0.,   2.,   0.,   0.,   2.,   0.,   0.,   0.,\n",
       "          0.,   4.,   0.,   5.,   3.,   0.,   0.,   2.,   0.,   0.,  13.,\n",
       "          5.,   5.,   9.,   6.,   4.,   7.,   3.,   4.,   5.,   3.,   8.,\n",
       "          5.,   0.,   0.,   0.,   0.,   0.,   0.,   0.,   0.,   0.,   0.,\n",
       "          0.,   0.,   0.,   0.,   0.,   0.,   0.,   0.,   0.,   0.,   0.,\n",
       "          0.],\n",
       "       [  1.,   0.,   0.,   2.,   1.,   1.,   0.,   0.,   0.,   0.,   0.,\n",
       "          0.,   1.,   1.,   1.,   0.,   1.,   0.,   0.,   0.,   0.,   0.,\n",
       "          0.,   0.,   0.,   0.,   0.,   0.,   0.,   0.,   0.,   0.,   0.,\n",
       "          0.,   1.,   1.,   0.,   0.,   0.,   0.,   0.,   0.,   0.,   0.,\n",
       "          0.,   0.,   0.,   0.,   0.,   0.,   0.,   0.,   0.,   0.,   0.,\n",
       "          0.],\n",
       "       [  0.,   2.,   1.,   2.,   1.,   0.,   0.,   0.,   1.,   0.,   0.,\n",
       "          0.,   1.,   1.,   0.,   0.,   0.,   0.,   0.,   0.,   0.,   0.,\n",
       "          0.,   0.,   0.,   2.,   0.,   0.,   0.,   1.,   1.,   0.,   0.,\n",
       "          0.,   0.,   1.,   7.,   3.,   2.,   1.,   1.,   0.,   0.,   0.,\n",
       "          0.,   0.,   0.,   0.,   0.,   0.,   0.,   0.,   0.,   0.,   0.,\n",
       "          0.],\n",
       "       [ 12.,   1.,   0.,   6.,   3.,  18.,   0.,   0.,   2.,   9.,   0.,\n",
       "          0.,   0.,   5.,  12.,   0.,   3.,   7.,   2.,   0.,   5.,   0.,\n",
       "          2.,   0.,   0.,   1.,   0.,   1.,   5.,   1.,   0.,   4.,   0.,\n",
       "          0.,   3.,   1.,   0.,   2.,  14.,   0.,   5.,   6.,   9.,   5.,\n",
       "         14.,  10.,   5.,   8.,   2.,   7.,   0.,   0.,   0.,   0.,   0.,\n",
       "          0.],\n",
       "       [  0.,   1.,   3.,   1.,   0.,   1.,   0.,   0.,   2.,   0.,   0.,\n",
       "          0.,   0.,   1.,   0.,   0.,   0.,   0.,   0.,   0.,   0.,   0.,\n",
       "          0.,   0.,   0.,   2.,   2.,   1.,   0.,   0.,   0.,   0.,   0.,\n",
       "          0.,   0.,   1.,   0.,   2.,   2.,   1.,   2.,   0.,   0.,   2.,\n",
       "          0.,   0.,   0.,   0.,   1.,   0.,   0.,   0.,   0.,   0.,   0.,\n",
       "          0.],\n",
       "       [  0.,   0.,   0.,   0.,   0.,   0.,   0.,   1.,   0.,   0.,   1.,\n",
       "          0.,   0.,   1.,   0.,   0.,   0.,   0.,   0.,   0.,   0.,   0.,\n",
       "          0.,   0.,   0.,   0.,   0.,   0.,   0.,   0.,   0.,   0.,   0.,\n",
       "          0.,   0.,   0.,   0.,   0.,   0.,   3.,   0.,   0.,   0.,   0.,\n",
       "          0.,   0.,   0.,   0.,   0.,   0.,   1.,   5.,   0.,   0.,   0.,\n",
       "          0.],\n",
       "       [  0.,   0.,   0.,   4.,   3.,   4.,   0.,   3.,   1.,   0.,   5.,\n",
       "          0.,   1.,   2.,   0.,   0.,   1.,   1.,   2.,   2.,   0.,   0.,\n",
       "          0.,   0.,   0.,   0.,   2.,   0.,   0.,   0.,   0.,   0.,   0.,\n",
       "          0.,   0.,   2.,   0.,   5.,   2.,   1.,   1.,   0.,   0.,   0.,\n",
       "          0.,   1.,   1.,   1.,   5.,   0.,   7.,   0.,   8.,   4.,   0.,\n",
       "          0.],\n",
       "       [  0.,  11.,   0.,   7.,   3.,   2.,   0.,   0.,   0.,   0.,   2.,\n",
       "          0.,   0.,   4.,   0.,   0.,   0.,   1.,   0.,   0.,   0.,   0.,\n",
       "          0.,   0.,   0.,   0.,   0.,   0.,   0.,   3.,   0.,   0.,   2.,\n",
       "          0.,   2.,   0.,   0.,   4.,   2.,   2.,   3.,   0.,   0.,   0.,\n",
       "          0.,   0.,   0.,   0.,   0.,   0.,   0.,   0.,   0.,   2.,   6.,\n",
       "          0.],\n",
       "       [  1.,   0.,   0.,   3.,   0.,   0.,   0.,   0.,   0.,   0.,   0.,\n",
       "          0.,   0.,   2.,   1.,   0.,   0.,   0.,   0.,   0.,   0.,   0.,\n",
       "          0.,   0.,   0.,   0.,   0.,   0.,   0.,   0.,   0.,   0.,   0.,\n",
       "          0.,   1.,   1.,   0.,   0.,   0.,   0.,   1.,   0.,   0.,   0.,\n",
       "          0.,   0.,   0.,   1.,   0.,   1.,   0.,   0.,   0.,   0.,   0.,\n",
       "          0.],\n",
       "       [  0.,   0.,   0.,   0.,   2.,   0.,   0.,   1.,   0.,   0.,   0.,\n",
       "          0.,   0.,   0.,   2.,   2.,   0.,   0.,   0.,   5.,   0.,   2.,\n",
       "          0.,   2.,   0.,   0.,   0.,   0.,   0.,   2.,   0.,   0.,   0.,\n",
       "          2.,   0.,   0.,   0.,   0.,   0.,   0.,   0.,   0.,   0.,   0.,\n",
       "          0.,   0.,   0.,   0.,   0.,   0.,   1.,   9.,   0.,   0.,   0.,\n",
       "          8.]])"
      ]
     },
     "execution_count": 47,
     "metadata": {},
     "output_type": "execute_result"
    }
   ],
   "source": [
    "featureset"
   ]
  },
  {
   "cell_type": "code",
   "execution_count": 48,
   "metadata": {},
   "outputs": [
    {
     "data": {
      "text/plain": [
       "11"
      ]
     },
     "execution_count": 48,
     "metadata": {},
     "output_type": "execute_result"
    }
   ],
   "source": [
    "doc_sender_dict = pickle.load(open(DATA_FOLDER + 'doc_sender_dict.pickle', 'rb'))\n",
    "len(doc_sender_dict)"
   ]
  },
  {
   "cell_type": "code",
   "execution_count": 49,
   "metadata": {},
   "outputs": [
    {
     "data": {
      "text/plain": [
       "11"
      ]
     },
     "execution_count": 49,
     "metadata": {},
     "output_type": "execute_result"
    }
   ],
   "source": [
    "len(sender_words_dict)"
   ]
  },
  {
   "cell_type": "code",
   "execution_count": 40,
   "metadata": {},
   "outputs": [
    {
     "data": {
      "text/plain": [
       "{'00001593-256e-46f5-b0a1-bd0c09981c3a': '34219bab-b039-4e8d-8606-d710c5073916',\n",
       " '0000322e-16b6-4d36-b72c-5c9d827ba9dc': '42ac4d7a-5502-4111-b5aa-bffa8f3fe43f',\n",
       " '0000491b-cd3f-4a83-b738-d08d0cc1eca2': '82d9d472-7812-4e99-9fd2-c017802a3838',\n",
       " '000087be-0656-4cc1-a172-69090da03bd1': '73290100-6eaf-4a5a-a0b2-df94f3cedc52',\n",
       " '00008e18-c20b-47d5-ab49-b055de1d2e76': 'b8953a41-7ef7-426c-962a-42d8e4d8e36d',\n",
       " '000098aa-be74-4d07-b566-21083a71ce6c': 'b986bc24-a596-49c2-b2b2-52df10bbd587',\n",
       " '0000a414-0fc3-4a92-aef5-c81758cc8f09': '90166c71-5211-44c4-bd08-607fa0be4469',\n",
       " '0000b3e4-10d7-5cac-ac94-1639a6aa8db3': 'd9c5e8e6-c0cf-464e-883d-64be8ba7935f',\n",
       " '0000ca1e-e7b0-480a-98f6-160e27273f8f': '7623795a-ed93-4fd3-82af-3bd220953469',\n",
       " '0000e943-52cd-4635-945b-424b2e0c8696': 'dc5ae76c-1ce1-45e3-a13b-1bf7edd8c893',\n",
       " '0000f186-f949-4586-9175-ab3900fab976': '0ee45dd3-1544-4655-a3d1-a8dcd9207e18'}"
      ]
     },
     "execution_count": 40,
     "metadata": {},
     "output_type": "execute_result"
    }
   ],
   "source": [
    "doc_sender_dict"
   ]
  },
  {
   "cell_type": "code",
   "execution_count": 55,
   "metadata": {},
   "outputs": [],
   "source": [
    "sender_id_all = list(doc_sender_dict.values())"
   ]
  },
  {
   "cell_type": "code",
   "execution_count": 56,
   "metadata": {},
   "outputs": [
    {
     "data": {
      "text/plain": [
       "['34219bab-b039-4e8d-8606-d710c5073916',\n",
       " '42ac4d7a-5502-4111-b5aa-bffa8f3fe43f',\n",
       " '82d9d472-7812-4e99-9fd2-c017802a3838',\n",
       " '73290100-6eaf-4a5a-a0b2-df94f3cedc52',\n",
       " 'b8953a41-7ef7-426c-962a-42d8e4d8e36d',\n",
       " 'b986bc24-a596-49c2-b2b2-52df10bbd587',\n",
       " '90166c71-5211-44c4-bd08-607fa0be4469',\n",
       " 'd9c5e8e6-c0cf-464e-883d-64be8ba7935f',\n",
       " '7623795a-ed93-4fd3-82af-3bd220953469',\n",
       " 'dc5ae76c-1ce1-45e3-a13b-1bf7edd8c893',\n",
       " '0ee45dd3-1544-4655-a3d1-a8dcd9207e18']"
      ]
     },
     "execution_count": 56,
     "metadata": {},
     "output_type": "execute_result"
    }
   ],
   "source": [
    "sender_id_all"
   ]
  },
  {
   "cell_type": "code",
   "execution_count": 123,
   "metadata": {},
   "outputs": [
    {
     "name": "stdout",
     "output_type": "stream",
     "text": [
      "68248\n"
     ]
    }
   ],
   "source": [
    "import pandas as pd\n",
    "import numpy as np\n",
    "\n",
    "doc_sender_dict = pickle.load(open(DATA_FOLDER + 'doc_sender_dict.pickle', 'rb'))\n",
    "sender_id_all = list(set(doc_sender_dict.values()))\n",
    "\n",
    "sender_label_int_list = []\n",
    "for v in doc_sender_dict.values():\n",
    "    sender_label_int_list.append(sender_id_all.index(v))\n",
    "    \n",
    "print(len(sender_label_int_list))\n",
    "\n",
    "pickle.dump(sender_label_int_list, open(DATA_FOLDER +'labels_int.pickle', 'wb'))\n",
    "pickle.dump(sender_id_all, open(DATA_FOLDER +'sender_id_all.pickle', 'wb'))"
   ]
  },
  {
   "cell_type": "code",
   "execution_count": 125,
   "metadata": {},
   "outputs": [
    {
     "data": {
      "image/png": "[encoded data removed]",
      "text/plain": [
       "<matplotlib.figure.Figure at 0x131f5fcf8>"
      ]
     },
     "metadata": {},
     "output_type": "display_data"
    }
   ],
   "source": [
    "plt.hist(sender_label_int_list, bins=50)\n",
    "plt.show()"
   ]
  },
  {
   "cell_type": "code",
   "execution_count": 130,
   "metadata": {},
   "outputs": [
    {
     "data": {
      "text/plain": [
       "1637"
      ]
     },
     "execution_count": 130,
     "metadata": {},
     "output_type": "execute_result"
    }
   ],
   "source": [
    "sender_id = doc_sender_dict['0257ef66-608e-4804-875d-d615e584c688']\n",
    "\n",
    "sender_id_all.index(sender_id)"
   ]
  },
  {
   "cell_type": "code",
   "execution_count": 50,
   "metadata": {},
   "outputs": [
    {
     "data": {
      "text/plain": [
       "array([[0, 1, 0, 0, 0, 0, 0, 0, 0, 0, 0],\n",
       "       [0, 0, 1, 0, 0, 0, 0, 0, 0, 0, 0],\n",
       "       [0, 0, 0, 0, 0, 1, 0, 0, 0, 0, 0],\n",
       "       [0, 0, 0, 1, 0, 0, 0, 0, 0, 0, 0],\n",
       "       [0, 0, 0, 0, 0, 0, 0, 1, 0, 0, 0],\n",
       "       [0, 0, 0, 0, 0, 0, 0, 0, 1, 0, 0],\n",
       "       [0, 0, 0, 0, 0, 0, 1, 0, 0, 0, 0],\n",
       "       [0, 0, 0, 0, 0, 0, 0, 0, 0, 1, 0],\n",
       "       [0, 0, 0, 0, 1, 0, 0, 0, 0, 0, 0],\n",
       "       [0, 0, 0, 0, 0, 0, 0, 0, 0, 0, 1],\n",
       "       [1, 0, 0, 0, 0, 0, 0, 0, 0, 0, 0]], dtype=uint8)"
      ]
     },
     "execution_count": 50,
     "metadata": {},
     "output_type": "execute_result"
    }
   ],
   "source": [
    "import pandas as pd\n",
    "doc_sender_dict = pickle.load(open(DATA_FOLDER + 'doc_sender_dict.pickle', 'rb'))\n",
    "\n",
    "df = pd.DataFrame.from_dict(doc_sender_dict, orient='index')\n",
    "df = pd.get_dummies(df)\n",
    "df.as_matrix()"
   ]
  },
  {
   "cell_type": "markdown",
   "metadata": {},
   "source": [
    "## Generate labels.pickle"
   ]
  },
  {
   "cell_type": "code",
   "execution_count": 51,
   "metadata": {},
   "outputs": [],
   "source": [
    "import pandas as pd\n",
    "doc_sender_dict = pickle.load(open('./sub_data/doc_sender_dict.pickle', 'rb'))\n",
    "\n",
    "df = pd.DataFrame.from_dict(doc_sender_dict, orient='index')\n",
    "df = pd.get_dummies(df)\n",
    "pickle.dump(df.as_matrix(), open(DATA_FOLDER +'labels.pickle', 'wb'))"
   ]
  },
  {
   "cell_type": "code",
   "execution_count": 131,
   "metadata": {},
   "outputs": [
    {
     "data": {
      "text/plain": [
       "'./'"
      ]
     },
     "execution_count": 131,
     "metadata": {},
     "output_type": "execute_result"
    }
   ],
   "source": [
    "DATA_FOLDER"
   ]
  },
  {
   "cell_type": "code",
   "execution_count": 133,
   "metadata": {},
   "outputs": [
    {
     "data": {
      "text/plain": [
       "'d262a5d1-9edb-4e52-9070-b226829ad43a'"
      ]
     },
     "execution_count": 133,
     "metadata": {},
     "output_type": "execute_result"
    }
   ],
   "source": [
    "sender_id_all[177]"
   ]
  },
  {
   "cell_type": "code",
   "execution_count": 134,
   "metadata": {},
   "outputs": [],
   "source": [
    "pickle.dump(sender_id_all, open(DATA_FOLDER +'sender_id_all.pickle', 'wb'))"
   ]
  },
  {
   "cell_type": "code",
   "execution_count": null,
   "metadata": {},
   "outputs": [],
   "source": []
  }
 ],
 "metadata": {
  "kernelspec": {
   "display_name": "Python 3",
   "language": "python",
   "name": "python3"
  },
  "language_info": {
   "codemirror_mode": {
    "name": "ipython",
    "version": 3
   },
   "file_extension": ".py",
   "mimetype": "text/x-python",
   "name": "python",
   "nbconvert_exporter": "python",
   "pygments_lexer": "ipython3",
   "version": "3.6.1"
  }
 },
 "nbformat": 4,
 "nbformat_minor": 2
}
