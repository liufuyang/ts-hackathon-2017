{
 "cells": [
  {
   "cell_type": "code",
   "execution_count": 1,
   "metadata": {},
   "outputs": [],
   "source": [
    "# ssh -NL 5444:tradeshift.slave.db.eu-west-1.prod.ts.sv:5432 fli@sqltunnel.eu-west-1.prod.ts.sv\n",
    "%load_ext sql\n",
    "%sql postgresql+psycopg2://fli@localhost:5444/tradeshift?sslmode=require\n",
    "%config SqlMagic.feedback=False"
   ]
  },
  {
   "cell_type": "code",
   "execution_count": 2,
   "metadata": {},
   "outputs": [],
   "source": [
    "import json\n",
    "import os\n",
    "\n",
    "def append_record(record, file_name):\n",
    "    with open(file_name, 'a') as f:\n",
    "        json.dump(record, f)\n",
    "        f.write(os.linesep)"
   ]
  },
  {
   "cell_type": "code",
   "execution_count": 3,
   "metadata": {},
   "outputs": [
    {
     "name": "stdout",
     "output_type": "stream",
     "text": [
      "645436\n"
     ]
    }
   ],
   "source": [
    "with open('train_json_file_list.txt', 'r') as f:\n",
    "    lines = f.read().splitlines()\n",
    "    id_list = [e.replace('.',' ').split(' ')[-3] for e in lines]\n",
    "    print(len(id_list))"
   ]
  },
  {
   "cell_type": "code",
   "execution_count": 4,
   "metadata": {},
   "outputs": [],
   "source": [
    "doc_sender_dict = {}\n",
    "\n",
    "count = 0\n",
    "\n",
    "import timeit\n",
    "start_time = timeit.default_timer()"
   ]
  },
  {
   "cell_type": "code",
   "execution_count": null,
   "metadata": {},
   "outputs": [
    {
     "name": "stdout",
     "output_type": "stream",
     "text": [
      "Doc number 9999. doc_sender_dict length10000\n",
      "Time passed: 165.64m\n"
     ]
    }
   ],
   "source": [
    "for i in range(0, len(id_list)):\n",
    "    count = count + 1\n",
    "    \n",
    "    key = id_list[i]\n",
    "    try:\n",
    "        sender_id = %sql select groupid from documents where uuid = :key\n",
    "        sender_id = str(sender_id.dict()['groupid'][0])\n",
    "    except:\n",
    "        sender_id = 'Unknown'\n",
    "    \n",
    "    doc_sender_dict[key] = sender_id\n",
    "    \n",
    "    if count > 1 and count % 10000 == 0:\n",
    "        append_record(doc_sender_dict, 'doc_sender_dict.jsonlist')\n",
    "        \n",
    "        print('Doc number {}. doc_sender_dict length: {}'.format(i, len(doc_sender_dict)))\n",
    "        print('Time passed: {0:.2f}m'.format((timeit.default_timer() - start_time)/60))\n",
    "        \n",
    "        doc_sender_dict = {}\n",
    "\n",
    "append_record(doc_sender_dict, 'doc_sender_dict.jsonlist')"
   ]
  },
  {
   "cell_type": "code",
   "execution_count": null,
   "metadata": {},
   "outputs": [],
   "source": []
  }
 ],
 "metadata": {
  "kernelspec": {
   "display_name": "Python 3",
   "language": "python",
   "name": "python3"
  },
  "language_info": {
   "codemirror_mode": {
    "name": "ipython",
    "version": 3
   },
   "file_extension": ".py",
   "mimetype": "text/x-python",
   "name": "python",
   "nbconvert_exporter": "python",
   "pygments_lexer": "ipython3",
   "version": "3.6.1"
  }
 },
 "nbformat": 4,
 "nbformat_minor": 2
}
